{
  "cells": [
    {
      "cell_type": "markdown",
      "metadata": {
        "id": "Tce3stUlHN0L"
      },
      "source": [
        "##### Copyright 2024 Google LLC."
      ]
    },
    {
      "cell_type": "code",
      "execution_count": null,
      "metadata": {
        "cellView": "form",
        "id": "tuOe1ymfHZPu"
      },
      "outputs": [],
      "source": [
        "#@title Licensed under the Apache License, Version 2.0 (the \"License\");\n",
        "# you may not use this file except in compliance with the License.\n",
        "# You may obtain a copy of the License at\n",
        "#\n",
        "# https://www.apache.org/licenses/LICENSE-2.0\n",
        "#\n",
        "# Unless required by applicable law or agreed to in writing, software\n",
        "# distributed under the License is distributed on an \"AS IS\" BASIS,\n",
        "# WITHOUT WARRANTIES OR CONDITIONS OF ANY KIND, either express or implied.\n",
        "# See the License for the specific language governing permissions and\n",
        "# limitations under the License."
      ]
    },
    {
      "cell_type": "markdown",
      "metadata": {
        "id": "yeadDkMiISin"
      },
      "source": [
        "# Gemini API: Model tuning with Python"
      ]
    },
    {
      "cell_type": "markdown",
      "metadata": {
        "id": "lEXQ3OwKIa-O"
      },
      "source": [
        "<table class=\"tfo-notebook-buttons\" align=\"left\">\n",
        "  <td>\n",
        "    <a target=\"_blank\" href=\"https://ai.google.dev/gemini-api/docs/model-tuning/python\"><img src=\"https://ai.google.dev/static/site-assets/images/docs/notebook-site-button.png\" height=\"32\" width=\"32\" />View on ai.google.dev</a>\n",
        "  </td>\n",
        "    <td>\n",
        "    <a target=\"_blank\" href=\"https://colab.research.google.com/github/google/generative-ai-docs/blob/main/site/en/gemini-api/docs/model-tuning/python.ipynb\"><img src=\"https://www.tensorflow.org/images/colab_logo_32px.png\" />Run in Google Colab</a>\n",
        "  </td>\n",
        "  <td>\n",
        "    <a target=\"_blank\" href=\"https://github.com/google/generative-ai-docs/blob/main/site/en/gemini-api/docs/model-tuning/python.ipynb\"><img src=\"https://www.tensorflow.org/images/GitHub-Mark-32px.png\" />View source on GitHub</a>\n",
        "  </td>\n",
        "</table>"
      ]
    },
    {
      "cell_type": "markdown",
      "metadata": {
        "id": "Jp_CKyzxUqx6"
      },
      "source": [
        "In this notebook, you'll learn how to get started with the tuning service using the Python client library for the Gemini API. Here, you'll learn how to tune the text model behind the Gemini API's text generation service."
      ]
    },
    {
      "cell_type": "markdown",
      "metadata": {
        "id": "sOz_wyZAlCuQ"
      },
      "source": [
        "## Setup"
      ]
    },
    {
      "cell_type": "markdown",
      "metadata": {
        "id": "aHimx8NGMWDj"
      },
      "source": [
        "### Install the client library"
      ]
    },
    {
      "cell_type": "code",
      "execution_count": 1,
      "metadata": {
        "id": "cbcf72bcb56d"
      },
      "outputs": [],
      "source": [
        "!pip install -q google-generativeai"
      ]
    },
    {
      "cell_type": "markdown",
      "metadata": {
        "id": "jdIYSl2kN0cq"
      },
      "source": [
        "### Import libraries"
      ]
    },
    {
      "cell_type": "code",
      "execution_count": 2,
      "metadata": {
        "id": "8enrppafJPCX"
      },
      "outputs": [],
      "source": [
        "import google.generativeai as genai"
      ]
    },
    {
      "cell_type": "code",
      "execution_count": 3,
      "metadata": {
        "id": "lhqVUjH7ZKUi"
      },
      "outputs": [],
      "source": [
        "from google.colab import userdata\n",
        "genai.configure(api_key=userdata.get('GOOGLE_API_KEY'))"
      ]
    },
    {
      "cell_type": "markdown",
      "metadata": {
        "id": "P-MYZECwlRCq"
      },
      "source": [
        "You can check you existing tuned models with the `genai.list_tuned_model` method."
      ]
    },
    {
      "cell_type": "code",
      "execution_count": 4,
      "metadata": {
        "id": "XyWzoYFxU4r6",
        "colab": {
          "base_uri": "https://localhost:8080/",
          "height": 86
        },
        "outputId": "0dc12577-51a4-4a94-9cad-d62e0949a998"
      },
      "outputs": [
        {
          "output_type": "stream",
          "name": "stdout",
          "text": [
            "tunedModels/generate-ner-1\n",
            "tunedModels/generate-relationalner-3\n",
            "tunedModels/generate-relationalner-4\n",
            "tunedModels/generate-relationalner-5\n"
          ]
        }
      ],
      "source": [
        "for i, m in zip(range(5), genai.list_tuned_models()):\n",
        "  print(m.name)"
      ]
    },
    {
      "cell_type": "markdown",
      "metadata": {
        "id": "BhkXRzciv3Dp"
      },
      "source": [
        "## Create tuned model"
      ]
    },
    {
      "cell_type": "markdown",
      "metadata": {
        "id": "OO8VZYAinLWc"
      },
      "source": [
        "To create a tuned model, you need to pass your dataset to the model in the `genai.create_tuned_model` method. You can do this be directly defining the input and output values in the call or importing from a file into a dataframe to pass to the method.\n",
        "\n",
        "For this example, you will tune a model to generate the next number in the sequence. For example, if the input is `1`, the model should output `2`. If the input is `one hundred`, the output should be `one hundred one`."
      ]
    },
    {
      "cell_type": "code",
      "execution_count": 5,
      "metadata": {
        "id": "w-EBSe9wTbLB",
        "colab": {
          "base_uri": "https://localhost:8080/",
          "height": 243
        },
        "outputId": "59402026-ee2a-4d3a-b6c9-eca7758b4035"
      },
      "outputs": [
        {
          "output_type": "execute_result",
          "data": {
            "text/plain": [
              "Model(name='models/gemini-1.5-flash-001-tuning',\n",
              "      base_model_id='',\n",
              "      version='001',\n",
              "      display_name='Gemini 1.5 Flash 001 Tuning',\n",
              "      description=('Version of Gemini 1.5 Flash that supports tuning, our fast and versatile '\n",
              "                   'multimodal model for scaling across diverse tasks, released in May of 2024.'),\n",
              "      input_token_limit=16384,\n",
              "      output_token_limit=8192,\n",
              "      supported_generation_methods=['generateContent', 'countTokens', 'createTunedModel'],\n",
              "      temperature=1.0,\n",
              "      max_temperature=2.0,\n",
              "      top_p=0.95,\n",
              "      top_k=64)"
            ]
          },
          "metadata": {},
          "execution_count": 5
        }
      ],
      "source": [
        "base_model = [\n",
        "    m for m in genai.list_models()\n",
        "    if \"createTunedModel\" in m.supported_generation_methods and\n",
        "    \"flash\" in m.name][0]\n",
        "base_model"
      ]
    },
    {
      "cell_type": "code",
      "source": [
        "##read in csv file and parse text_input and output pairs to feed into the \"training data\" object\n",
        "#Training data has a format where each input_output pair is a dict with key text_input and key output, values are the actual ones\n",
        "#Need to essentially have n=45 dictionaries\n",
        "import pandas as pd\n",
        "import ast\n",
        "\n",
        "training_data_ner = []\n",
        "\n",
        "train_df = pd.read_csv(\"train_ner_finetune.csv\")\n",
        "\n",
        "for i in range(len(train_df)):\n",
        "  drugs_str = train_df['drugs'].iloc[i]\n",
        "  note = train_df['meds_section'].iloc[i]\n",
        "  temp_dict = {\n",
        "             'text_input': note,\n",
        "             'output': drugs_str,\n",
        "        }\n",
        "  training_data_ner.append(temp_dict)\n",
        "\n",
        "\n",
        "\n",
        "\n",
        "\n"
      ],
      "metadata": {
        "colab": {
          "base_uri": "https://localhost:8080/",
          "height": 356
        },
        "id": "bLygGvFIVG98",
        "outputId": "abaf2902-5d37-480a-bcf2-d6ca0c7690ca"
      },
      "execution_count": 6,
      "outputs": [
        {
          "output_type": "error",
          "ename": "FileNotFoundError",
          "evalue": "[Errno 2] No such file or directory: 'train_ner_finetune.csv'",
          "traceback": [
            "\u001b[0;31m---------------------------------------------------------------------------\u001b[0m",
            "\u001b[0;31mFileNotFoundError\u001b[0m                         Traceback (most recent call last)",
            "\u001b[0;32m<ipython-input-6-393e3aec9393>\u001b[0m in \u001b[0;36m<cell line: 0>\u001b[0;34m()\u001b[0m\n\u001b[1;32m      7\u001b[0m \u001b[0mtraining_data_ner\u001b[0m \u001b[0;34m=\u001b[0m \u001b[0;34m[\u001b[0m\u001b[0;34m]\u001b[0m\u001b[0;34m\u001b[0m\u001b[0;34m\u001b[0m\u001b[0m\n\u001b[1;32m      8\u001b[0m \u001b[0;34m\u001b[0m\u001b[0m\n\u001b[0;32m----> 9\u001b[0;31m \u001b[0mtrain_df\u001b[0m \u001b[0;34m=\u001b[0m \u001b[0mpd\u001b[0m\u001b[0;34m.\u001b[0m\u001b[0mread_csv\u001b[0m\u001b[0;34m(\u001b[0m\u001b[0;34m\"train_ner_finetune.csv\"\u001b[0m\u001b[0;34m)\u001b[0m\u001b[0;34m\u001b[0m\u001b[0;34m\u001b[0m\u001b[0m\n\u001b[0m\u001b[1;32m     10\u001b[0m \u001b[0;34m\u001b[0m\u001b[0m\n\u001b[1;32m     11\u001b[0m \u001b[0;32mfor\u001b[0m \u001b[0mi\u001b[0m \u001b[0;32min\u001b[0m \u001b[0mrange\u001b[0m\u001b[0;34m(\u001b[0m\u001b[0mlen\u001b[0m\u001b[0;34m(\u001b[0m\u001b[0mtrain_df\u001b[0m\u001b[0;34m)\u001b[0m\u001b[0;34m)\u001b[0m\u001b[0;34m:\u001b[0m\u001b[0;34m\u001b[0m\u001b[0;34m\u001b[0m\u001b[0m\n",
            "\u001b[0;32m/usr/local/lib/python3.11/dist-packages/pandas/io/parsers/readers.py\u001b[0m in \u001b[0;36mread_csv\u001b[0;34m(filepath_or_buffer, sep, delimiter, header, names, index_col, usecols, dtype, engine, converters, true_values, false_values, skipinitialspace, skiprows, skipfooter, nrows, na_values, keep_default_na, na_filter, verbose, skip_blank_lines, parse_dates, infer_datetime_format, keep_date_col, date_parser, date_format, dayfirst, cache_dates, iterator, chunksize, compression, thousands, decimal, lineterminator, quotechar, quoting, doublequote, escapechar, comment, encoding, encoding_errors, dialect, on_bad_lines, delim_whitespace, low_memory, memory_map, float_precision, storage_options, dtype_backend)\u001b[0m\n\u001b[1;32m   1024\u001b[0m     \u001b[0mkwds\u001b[0m\u001b[0;34m.\u001b[0m\u001b[0mupdate\u001b[0m\u001b[0;34m(\u001b[0m\u001b[0mkwds_defaults\u001b[0m\u001b[0;34m)\u001b[0m\u001b[0;34m\u001b[0m\u001b[0;34m\u001b[0m\u001b[0m\n\u001b[1;32m   1025\u001b[0m \u001b[0;34m\u001b[0m\u001b[0m\n\u001b[0;32m-> 1026\u001b[0;31m     \u001b[0;32mreturn\u001b[0m \u001b[0m_read\u001b[0m\u001b[0;34m(\u001b[0m\u001b[0mfilepath_or_buffer\u001b[0m\u001b[0;34m,\u001b[0m \u001b[0mkwds\u001b[0m\u001b[0;34m)\u001b[0m\u001b[0;34m\u001b[0m\u001b[0;34m\u001b[0m\u001b[0m\n\u001b[0m\u001b[1;32m   1027\u001b[0m \u001b[0;34m\u001b[0m\u001b[0m\n\u001b[1;32m   1028\u001b[0m \u001b[0;34m\u001b[0m\u001b[0m\n",
            "\u001b[0;32m/usr/local/lib/python3.11/dist-packages/pandas/io/parsers/readers.py\u001b[0m in \u001b[0;36m_read\u001b[0;34m(filepath_or_buffer, kwds)\u001b[0m\n\u001b[1;32m    618\u001b[0m \u001b[0;34m\u001b[0m\u001b[0m\n\u001b[1;32m    619\u001b[0m     \u001b[0;31m# Create the parser.\u001b[0m\u001b[0;34m\u001b[0m\u001b[0;34m\u001b[0m\u001b[0m\n\u001b[0;32m--> 620\u001b[0;31m     \u001b[0mparser\u001b[0m \u001b[0;34m=\u001b[0m \u001b[0mTextFileReader\u001b[0m\u001b[0;34m(\u001b[0m\u001b[0mfilepath_or_buffer\u001b[0m\u001b[0;34m,\u001b[0m \u001b[0;34m**\u001b[0m\u001b[0mkwds\u001b[0m\u001b[0;34m)\u001b[0m\u001b[0;34m\u001b[0m\u001b[0;34m\u001b[0m\u001b[0m\n\u001b[0m\u001b[1;32m    621\u001b[0m \u001b[0;34m\u001b[0m\u001b[0m\n\u001b[1;32m    622\u001b[0m     \u001b[0;32mif\u001b[0m \u001b[0mchunksize\u001b[0m \u001b[0;32mor\u001b[0m \u001b[0miterator\u001b[0m\u001b[0;34m:\u001b[0m\u001b[0;34m\u001b[0m\u001b[0;34m\u001b[0m\u001b[0m\n",
            "\u001b[0;32m/usr/local/lib/python3.11/dist-packages/pandas/io/parsers/readers.py\u001b[0m in \u001b[0;36m__init__\u001b[0;34m(self, f, engine, **kwds)\u001b[0m\n\u001b[1;32m   1618\u001b[0m \u001b[0;34m\u001b[0m\u001b[0m\n\u001b[1;32m   1619\u001b[0m         \u001b[0mself\u001b[0m\u001b[0;34m.\u001b[0m\u001b[0mhandles\u001b[0m\u001b[0;34m:\u001b[0m \u001b[0mIOHandles\u001b[0m \u001b[0;34m|\u001b[0m \u001b[0;32mNone\u001b[0m \u001b[0;34m=\u001b[0m \u001b[0;32mNone\u001b[0m\u001b[0;34m\u001b[0m\u001b[0;34m\u001b[0m\u001b[0m\n\u001b[0;32m-> 1620\u001b[0;31m         \u001b[0mself\u001b[0m\u001b[0;34m.\u001b[0m\u001b[0m_engine\u001b[0m \u001b[0;34m=\u001b[0m \u001b[0mself\u001b[0m\u001b[0;34m.\u001b[0m\u001b[0m_make_engine\u001b[0m\u001b[0;34m(\u001b[0m\u001b[0mf\u001b[0m\u001b[0;34m,\u001b[0m \u001b[0mself\u001b[0m\u001b[0;34m.\u001b[0m\u001b[0mengine\u001b[0m\u001b[0;34m)\u001b[0m\u001b[0;34m\u001b[0m\u001b[0;34m\u001b[0m\u001b[0m\n\u001b[0m\u001b[1;32m   1621\u001b[0m \u001b[0;34m\u001b[0m\u001b[0m\n\u001b[1;32m   1622\u001b[0m     \u001b[0;32mdef\u001b[0m \u001b[0mclose\u001b[0m\u001b[0;34m(\u001b[0m\u001b[0mself\u001b[0m\u001b[0;34m)\u001b[0m \u001b[0;34m->\u001b[0m \u001b[0;32mNone\u001b[0m\u001b[0;34m:\u001b[0m\u001b[0;34m\u001b[0m\u001b[0;34m\u001b[0m\u001b[0m\n",
            "\u001b[0;32m/usr/local/lib/python3.11/dist-packages/pandas/io/parsers/readers.py\u001b[0m in \u001b[0;36m_make_engine\u001b[0;34m(self, f, engine)\u001b[0m\n\u001b[1;32m   1878\u001b[0m                 \u001b[0;32mif\u001b[0m \u001b[0;34m\"b\"\u001b[0m \u001b[0;32mnot\u001b[0m \u001b[0;32min\u001b[0m \u001b[0mmode\u001b[0m\u001b[0;34m:\u001b[0m\u001b[0;34m\u001b[0m\u001b[0;34m\u001b[0m\u001b[0m\n\u001b[1;32m   1879\u001b[0m                     \u001b[0mmode\u001b[0m \u001b[0;34m+=\u001b[0m \u001b[0;34m\"b\"\u001b[0m\u001b[0;34m\u001b[0m\u001b[0;34m\u001b[0m\u001b[0m\n\u001b[0;32m-> 1880\u001b[0;31m             self.handles = get_handle(\n\u001b[0m\u001b[1;32m   1881\u001b[0m                 \u001b[0mf\u001b[0m\u001b[0;34m,\u001b[0m\u001b[0;34m\u001b[0m\u001b[0;34m\u001b[0m\u001b[0m\n\u001b[1;32m   1882\u001b[0m                 \u001b[0mmode\u001b[0m\u001b[0;34m,\u001b[0m\u001b[0;34m\u001b[0m\u001b[0;34m\u001b[0m\u001b[0m\n",
            "\u001b[0;32m/usr/local/lib/python3.11/dist-packages/pandas/io/common.py\u001b[0m in \u001b[0;36mget_handle\u001b[0;34m(path_or_buf, mode, encoding, compression, memory_map, is_text, errors, storage_options)\u001b[0m\n\u001b[1;32m    871\u001b[0m         \u001b[0;32mif\u001b[0m \u001b[0mioargs\u001b[0m\u001b[0;34m.\u001b[0m\u001b[0mencoding\u001b[0m \u001b[0;32mand\u001b[0m \u001b[0;34m\"b\"\u001b[0m \u001b[0;32mnot\u001b[0m \u001b[0;32min\u001b[0m \u001b[0mioargs\u001b[0m\u001b[0;34m.\u001b[0m\u001b[0mmode\u001b[0m\u001b[0;34m:\u001b[0m\u001b[0;34m\u001b[0m\u001b[0;34m\u001b[0m\u001b[0m\n\u001b[1;32m    872\u001b[0m             \u001b[0;31m# Encoding\u001b[0m\u001b[0;34m\u001b[0m\u001b[0;34m\u001b[0m\u001b[0m\n\u001b[0;32m--> 873\u001b[0;31m             handle = open(\n\u001b[0m\u001b[1;32m    874\u001b[0m                 \u001b[0mhandle\u001b[0m\u001b[0;34m,\u001b[0m\u001b[0;34m\u001b[0m\u001b[0;34m\u001b[0m\u001b[0m\n\u001b[1;32m    875\u001b[0m                 \u001b[0mioargs\u001b[0m\u001b[0;34m.\u001b[0m\u001b[0mmode\u001b[0m\u001b[0;34m,\u001b[0m\u001b[0;34m\u001b[0m\u001b[0;34m\u001b[0m\u001b[0m\n",
            "\u001b[0;31mFileNotFoundError\u001b[0m: [Errno 2] No such file or directory: 'train_ner_finetune.csv'"
          ]
        }
      ]
    },
    {
      "cell_type": "code",
      "execution_count": null,
      "metadata": {
        "id": "baHjHh1oTTTC"
      },
      "outputs": [],
      "source": [
        "name = 'generate-ner-1'\n",
        "operation = genai.create_tuned_model(\n",
        "    # You can use a tuned model here too. Set `source_model=\"tunedModels/...\"`\n",
        "    source_model=base_model.name,\n",
        "    training_data=training_data_ner,\n",
        "    id = name,\n",
        "    epoch_count = 100,\n",
        "    batch_size=4,\n",
        "    learning_rate=0.001,\n",
        ")"
      ]
    },
    {
      "cell_type": "markdown",
      "metadata": {
        "id": "-As7ayWDK1w8"
      },
      "source": [
        "Your tuned model is immediately added to the list of tuned models, but its status is set to \"creating\" while the model is tuned."
      ]
    },
    {
      "cell_type": "code",
      "execution_count": 4,
      "metadata": {
        "id": "su64KgY4Uztj",
        "colab": {
          "base_uri": "https://localhost:8080/",
          "height": 329
        },
        "outputId": "5f85d66b-0a4d-40bf-c5a2-98e0add59f8f"
      },
      "outputs": [
        {
          "output_type": "execute_result",
          "data": {
            "text/plain": [
              "TunedModel(name='tunedModels/generate-relationalner-3',\n",
              "           source_model='tunedModels/generate-ner-1',\n",
              "           base_model='models/gemini-1.5-flash-001-tuning',\n",
              "           display_name='',\n",
              "           description='',\n",
              "           temperature=1.0,\n",
              "           top_p=0.95,\n",
              "           top_k=64,\n",
              "           state=<State.ACTIVE: 2>,\n",
              "           create_time=datetime.datetime(2025, 4, 29, 1, 57, 39, 489215, tzinfo=datetime.timezone.utc),\n",
              "           update_time=datetime.datetime(2025, 4, 29, 2, 39, 27, 124675, tzinfo=datetime.timezone.utc),\n",
              "           tuning_task=TuningTask(start_time=datetime.datetime(2025, 4, 29, 1, 57, 39, 627380, tzinfo=datetime.timezone.utc),\n",
              "                                  complete_time=datetime.datetime(2025, 4, 29, 2, 39, 27, 124675, tzinfo=datetime.timezone.utc),\n",
              "                                  snapshots=[...],\n",
              "                                  hyperparameters=Hyperparameters(epoch_count=100,\n",
              "                                                                  batch_size=4,\n",
              "                                                                  learning_rate=0.001)),\n",
              "           reader_project_numbers=None)"
            ]
          },
          "metadata": {},
          "execution_count": 4
        }
      ],
      "source": [
        "model = genai.get_tuned_model(f'tunedModels/generate-relationalner-3')\n",
        "\n",
        "model"
      ]
    },
    {
      "cell_type": "code",
      "execution_count": 5,
      "metadata": {
        "id": "EUodUwZkKPi-",
        "colab": {
          "base_uri": "https://localhost:8080/"
        },
        "outputId": "3d1ef5db-ec11-42cb-8f3b-213fa53fcc82"
      },
      "outputs": [
        {
          "output_type": "execute_result",
          "data": {
            "text/plain": [
              "<State.ACTIVE: 2>"
            ]
          },
          "metadata": {},
          "execution_count": 5
        }
      ],
      "source": [
        "model.state"
      ]
    },
    {
      "cell_type": "markdown",
      "metadata": {
        "id": "Pi8X5vkQv-3_"
      },
      "source": [
        "### Check tuning progress"
      ]
    },
    {
      "cell_type": "markdown",
      "metadata": {
        "id": "tWI-vAh4LJIz"
      },
      "source": [
        "Use `metadata` to check the state:"
      ]
    },
    {
      "cell_type": "code",
      "execution_count": null,
      "metadata": {
        "id": "g08vqtxYLMxT",
        "colab": {
          "base_uri": "https://localhost:8080/",
          "height": 35
        },
        "outputId": "0fb15aa0-f724-4700-be93-eebac1b9cf61"
      },
      "outputs": [
        {
          "output_type": "execute_result",
          "data": {
            "text/plain": [
              "'tunedModels/generate-ner-1/operations/nqgn5wbljcxn'"
            ],
            "application/vnd.google.colaboratory.intrinsic+json": {
              "type": "string"
            }
          },
          "metadata": {},
          "execution_count": 140
        }
      ],
      "source": [
        "operation.name"
      ]
    },
    {
      "cell_type": "markdown",
      "metadata": {
        "id": "3lQ6gSMgK-kz"
      },
      "source": [
        "Wait for the training to finish using `operation.result()`, or `operation.wait_bar()`"
      ]
    },
    {
      "cell_type": "code",
      "execution_count": null,
      "metadata": {
        "id": "SOUowIv1HgSE",
        "colab": {
          "base_uri": "https://localhost:8080/",
          "height": 49,
          "referenced_widgets": [
            "f0d46797515746a7bd87bfaafde1326c",
            "d47db73f0f074aa98802fe31dfdb0833",
            "979defb8a6be44b3ac78b7db71af71bf",
            "abbfd3d198da4248a118dcf1683ef0a1",
            "fa78be4bb600427cb3d9a276f8542d68",
            "ca7e006d5e2a4215864af5ccc9458558",
            "f5d7ca677ef5464dbf70ca930618d87c",
            "f07ef3199f774877b62b17758c0b570e",
            "0d48a3a5f92b449da875d0ed01a32b93",
            "3856c0733c3f43ebbb474c0c765e2b96",
            "a01b1d8a132d49968846b7d566efb65c"
          ]
        },
        "outputId": "25723ad4-0afe-4449-d4e5-35f9a2b3f078"
      },
      "outputs": [
        {
          "output_type": "display_data",
          "data": {
            "text/plain": [
              "  0%|          | 0/1025 [00:00<?, ?it/s]"
            ],
            "application/vnd.jupyter.widget-view+json": {
              "version_major": 2,
              "version_minor": 0,
              "model_id": "f0d46797515746a7bd87bfaafde1326c"
            }
          },
          "metadata": {}
        }
      ],
      "source": [
        "import time\n",
        "\n",
        "for status in operation.wait_bar():\n",
        "  time.sleep(30)"
      ]
    },
    {
      "cell_type": "markdown",
      "metadata": {
        "id": "4cg868HzqOx5"
      },
      "source": [
        "You can cancel your tuning job any time using the `cancel()` method. Uncomment the line below and run the code cell to cancel your job before it finishes."
      ]
    },
    {
      "cell_type": "code",
      "execution_count": null,
      "metadata": {
        "id": "oQuJ70_hqJi9"
      },
      "outputs": [],
      "source": [
        "# operation.cancel()"
      ]
    },
    {
      "cell_type": "markdown",
      "metadata": {
        "id": "lqiL0TWDqAPn"
      },
      "source": [
        "Once the tuning is complete, you can view the loss curve from the tuning results. The [loss curve](https://ai.google.dev/gemini-api/docs/model-tuning#recommended_configurations) shows how much the model's predictions deviate from the ideal outputs."
      ]
    },
    {
      "cell_type": "code",
      "execution_count": null,
      "metadata": {
        "id": "bIiG57xWLhP7",
        "colab": {
          "base_uri": "https://localhost:8080/",
          "height": 466
        },
        "outputId": "96a1ae78-79b6-48f9-c260-75f05d48e39c"
      },
      "outputs": [
        {
          "output_type": "execute_result",
          "data": {
            "text/plain": [
              "<Axes: xlabel='epoch', ylabel='mean_loss'>"
            ]
          },
          "metadata": {},
          "execution_count": 70
        },
        {
          "output_type": "display_data",
          "data": {
            "text/plain": [
              "<Figure size 640x480 with 1 Axes>"
            ],
            "image/png": "[encoded data removed]"
          },
          "metadata": {}
        }
      ],
      "source": [
        "import pandas as pd\n",
        "import seaborn as sns\n",
        "\n",
        "model = operation.result()\n",
        "\n",
        "snapshots = pd.DataFrame(model.tuning_task.snapshots)\n",
        "\n",
        "sns.lineplot(data=snapshots, x = 'epoch', y='mean_loss')\n"
      ]
    },
    {
      "cell_type": "markdown",
      "metadata": {
        "id": "rkoQTXb1vSBC"
      },
      "source": [
        "## Evaluate your model\n",
        "\n",
        "You can use the `genai.generate_content` method and specify the name of your model to test your model performance."
      ]
    },
    {
      "cell_type": "code",
      "execution_count": 7,
      "metadata": {
        "id": "zO0YcuSyxydZ"
      },
      "outputs": [],
      "source": [
        "import pandas as pd\n",
        "model = genai.GenerativeModel(model_name=f'tunedModels/generate-ner-3')\n",
        "test_df = pd.read_csv('test_ner_finetune.csv')"
      ]
    },
    {
      "cell_type": "code",
      "execution_count": 70,
      "metadata": {
        "id": "UwGrrj6hS_x2"
      },
      "outputs": [],
      "source": [
        "\n",
        "result = model.generate_content(test_df['meds_section'].iloc[4], safety_settings=[\n",
        "        {\n",
        "            \"category\": \"HARM_CATEGORY_DANGEROUS_CONTENT\",\n",
        "            \"threshold\": \"HIGH\",  # Allow 'medium' but block at 'high'\n",
        "        },\n",
        "        {\n",
        "            \"category\": \"HARM_CATEGORY_HATE_SPEECH\",\n",
        "            \"threshold\": \"HIGH\",\n",
        "        },\n",
        "        {\n",
        "            \"category\": \"HARM_CATEGORY_SEXUALLY_EXPLICIT\",\n",
        "            \"threshold\": \"HIGH\",\n",
        "        },\n",
        "        {\n",
        "            \"category\": \"HARM_CATEGORY_HARASSMENT\",\n",
        "            \"threshold\": \"HIGH\",\n",
        "        },\n",
        "    ])"
      ]
    },
    {
      "cell_type": "code",
      "source": [
        "import ast\n",
        "predicted_drugs = result.text\n",
        "index = predicted_drugs.find('[')\n",
        "predicted_drugs = predicted_drugs[index:]\n",
        "\n",
        "predicted_drugs_list = ast.literal_eval(predicted_drugs)\n",
        "\n",
        "true_drugs_list = ast.literal_eval(test_df['drugs'].iloc[4])\n",
        "\n",
        "def proportion_overlap(set1, set2):\n",
        "    \"\"\"\n",
        "    Compute the proportion of elements in set1 that exist in set2 (case insensitive).\n",
        "\n",
        "    Args:\n",
        "        set1 (iterable): First set/list of elements.\n",
        "        set2 (iterable): Second set/list of elements.\n",
        "\n",
        "    Returns:\n",
        "        float: Proportion of set1 elements that are found in set2.\n",
        "    \"\"\"\n",
        "    # Normalize everything to strings, lowercase, and strip\n",
        "    set1 = {str(e).lower().strip() for e in set1}\n",
        "    set2 = {str(e).lower().strip() for e in set2}\n",
        "\n",
        "    if len(set1) == 0:\n",
        "        return 0.0  # Avoid division by zero\n",
        "\n",
        "    # Find intersection\n",
        "    intersection = set1 & set2\n",
        "\n",
        "    # Calculate proportion\n",
        "    return len(intersection) / len(set1)\n",
        "\n",
        "print(proportion_overlap(predicted_drugs_list, true_drugs_list))\n",
        "print(predicted_drugs_list)\n"
      ],
      "metadata": {
        "colab": {
          "base_uri": "https://localhost:8080/"
        },
        "id": "taMuRpjeu5a4",
        "outputId": "1b7cc132-dc33-4e3f-d698-2484171b2e17"
      },
      "execution_count": 71,
      "outputs": [
        {
          "output_type": "stream",
          "name": "stdout",
          "text": [
            "0.8888888888888888\n",
            "['Warfarin', 'Acetaminophen', 'Lisinopril', 'Metoprolol Tartrate', 'Simvastatin', 'Levothyroxine Sodium', 'Torsemide', 'Calcitriol', 'Glargine']\n"
          ]
        }
      ]
    },
    {
      "cell_type": "markdown",
      "metadata": {
        "id": "HpIA1IFevQQR"
      },
      "source": [
        "It really seems to have picked up the task despite the limited examples, but \"next\" is a simple concept, see the [tuning guide](https://ai.google.dev/gemini-api/docs/model-tuning) for more guidance on improving performance."
      ]
    },
    {
      "cell_type": "markdown",
      "source": [
        "Now, we have done the NER task and fine-tuning for that. We will use this NER model as our base now and try for relational NER with the tuple format, and a specific prompt to ensure the model tries to capture relational information. Let's give it the whole note and see how it performs fine-tuning wise."
      ],
      "metadata": {
        "id": "a90SMMj5IUws"
      }
    },
    {
      "cell_type": "code",
      "source": [
        "import pandas as pd\n",
        "training_data_relational_ner = [] #the final array of training data\n",
        "\n",
        "prompt_begin = \"\"\"\n",
        "For each medication, perform relational named entity recognition and extract the following fields from the given clinical note:\n",
        "\n",
        "- \"Drug Name\": The name of the drug mentioned.\n",
        "- \"Drug Dosage\": The numeric dosage (if explicitly stated); otherwise, \"Not mentioned.\"\n",
        "- \"Unit of Dosage\": The unit (e.g., mg, mL) (if stated); otherwise, \"Not mentioned.\"\n",
        "- \"Drug Form\": The formulation (e.g., Tablet, Vial) (if stated); otherwise, \"Not mentioned.\"\n",
        "- \"Route\": The route of administration (e.g., PO, IV) (if stated); otherwise, \"Not mentioned.\"\n",
        "\n",
        "**Output format:**\n",
        "Return a **strict JSON object**, where:\n",
        "- Keys are drug names.\n",
        "- Values are **lists of dictionaries**, each with the following keys: `\"Drug Dosage\"`, `\"Unit of Dosage\"`, `\"Route\"`, and `\"Drug Form\"`.\n",
        "\n",
        "Do not include any NON extra explanation, formatting, or headers—just the JSON object.\n",
        "\n",
        "---\n",
        "\n",
        "**Example 1:**\n",
        "\n",
        "Note: \"Patient prescribed aspirin 81 mg tablet by mouth daily. Also mentioned metformin 500 mg tablet taken orally twice a day.\"\n",
        "\n",
        "Expected Output:\n",
        "```json\n",
        "{\n",
        "  \"aspirin\": [\n",
        "    {\n",
        "      \"Drug Dosage\": \"81\",\n",
        "      \"Unit of Dosage\": \"mg\",\n",
        "      \"Route\": \"PO\",\n",
        "      \"Drug Form\": \"Tablet\"\n",
        "    }\n",
        "  ],\n",
        "  \"metformin\": [\n",
        "    {\n",
        "      \"Drug Dosage\": \"500\",\n",
        "      \"Unit of Dosage\": \"mg\",\n",
        "      \"Route\": \"PO\",\n",
        "      \"Drug Form\": \"Tablet\"\n",
        "    }\n",
        "  ]\n",
        "}\n",
        "Now, here is the actual note to extract from\\n:\n",
        "\"\"\"\n",
        "\n",
        "train_relational_finetune_df = pd.read_csv(\"train_relational_finetune.csv\")\n",
        "\n",
        "for i in range(len(train_relational_finetune_df)):\n",
        "  prompt = train_relational_finetune_df['meds_section'].iloc[i]\n",
        "  expected_output = train_relational_finetune_df['json_formatted_meds_section_gt'].iloc[i]\n",
        "  training_data_relational_ner.append(\n",
        "      {\n",
        "          'text_input': prompt,\n",
        "          'output': expected_output\n",
        "      }\n",
        "  )\n",
        "\n",
        "print(training_data_relational_ner[0]['output'])\n",
        "\n",
        "\n",
        "name = 'generate-relationalner-5'\n",
        "operation = genai.create_tuned_model(\n",
        "    # You can use a tuned model here too. Set `source_model=\"tunedModels/...\"`\n",
        "    source_model=\"tunedModels/generate-ner-1\",\n",
        "    training_data=training_data_relational_ner,\n",
        "    id = name,\n",
        "    epoch_count = 100,\n",
        "    batch_size=4,\n",
        "    learning_rate=0.001,\n",
        "    temperature=0.3\n",
        ")"
      ],
      "metadata": {
        "colab": {
          "base_uri": "https://localhost:8080/",
          "height": 885
        },
        "id": "f-YqXDQKJ8Vn",
        "outputId": "d1645a7c-b5e2-4fd4-9587-2eabd2a1d4f0"
      },
      "execution_count": 24,
      "outputs": [
        {
          "output_type": "stream",
          "name": "stdout",
          "text": [
            "{\n",
            "  \"Diazepam\": [\n",
            "    {\n",
            "      \"Drug Dosage\": \"5\",\n",
            "      \"Unit of Dosage\": \"mg\",\n",
            "      \"Route\": \"PO/NG\",\n",
            "      \"Drug Form\": \"TAB\"\n",
            "    }\n",
            "  ],\n",
            "  \"Acetaminophen\": [\n",
            "    {\n",
            "      \"Drug Dosage\": \"1000\",\n",
            "      \"Unit of Dosage\": \"mg\",\n",
            "      \"Route\": \"PO/NG\",\n",
            "      \"Drug Form\": \"TAB\"\n",
            "    }\n",
            "  ],\n",
            "  \"Simvastatin\": [\n",
            "    {\n",
            "      \"Drug Dosage\": \"10\",\n",
            "      \"Unit of Dosage\": \"mg\",\n",
            "      \"Route\": \"PO/NG\",\n",
            "      \"Drug Form\": \"TAB\"\n",
            "    }\n",
            "  ],\n",
            "  \"Atenolol\": [\n",
            "    {\n",
            "      \"Drug Dosage\": \"25\",\n",
            "      \"Unit of Dosage\": \"mg\",\n",
            "      \"Route\": \"PO/NG\",\n",
            "      \"Drug Form\": \"TAB\"\n",
            "    }\n",
            "  ],\n",
            "  \"Docusate Sodium\": [\n",
            "    {\n",
            "      \"Drug Dosage\": \"100\",\n",
            "      \"Unit of Dosage\": \"mg\",\n",
            "      \"Route\": \"PO/NG\",\n",
            "      \"Drug Form\": \"CAP\"\n",
            "    }\n",
            "  ],\n",
            "  \"Gabapentin\": [\n",
            "    {\n",
            "      \"Drug Dosage\": \"100\",\n",
            "      \"Unit of Dosage\": \"mg\",\n",
            "      \"Route\": \"PO/NG\",\n",
            "      \"Drug Form\": \"CAP\"\n",
            "    }\n",
            "  ]\n",
            "}\n"
          ]
        }
      ]
    },
    {
      "cell_type": "code",
      "source": [
        "model = genai.get_tuned_model(f'tunedModels/{name}')\n",
        "model.state"
      ],
      "metadata": {
        "colab": {
          "base_uri": "https://localhost:8080/",
          "height": 34
        },
        "id": "JVtOMF3DQdE9",
        "outputId": "3551d78c-eed7-4634-87ee-640843166fa1"
      },
      "execution_count": 25,
      "outputs": [
        {
          "output_type": "execute_result",
          "data": {
            "text/plain": [
              "<State.CREATING: 1>"
            ]
          },
          "metadata": {},
          "execution_count": 25
        }
      ]
    },
    {
      "cell_type": "code",
      "source": [
        "operation.name"
      ],
      "metadata": {
        "colab": {
          "base_uri": "https://localhost:8080/",
          "height": 35
        },
        "id": "0Zo7sPr_QsKT",
        "outputId": "cfe40cd9-134d-437b-c0f5-38b8ca481950"
      },
      "execution_count": 26,
      "outputs": [
        {
          "output_type": "execute_result",
          "data": {
            "text/plain": [
              "'tunedModels/generate-relationalner-5/operations/ymfwcswo54ql'"
            ],
            "application/vnd.google.colaboratory.intrinsic+json": {
              "type": "string"
            }
          },
          "metadata": {},
          "execution_count": 26
        }
      ]
    },
    {
      "cell_type": "code",
      "source": [
        "import time\n",
        "\n",
        "for status in operation.wait_bar():\n",
        "  time.sleep(30)"
      ],
      "metadata": {
        "colab": {
          "base_uri": "https://localhost:8080/",
          "height": 49,
          "referenced_widgets": [
            "eaf374727e394d8e9813d8d77c8bd408",
            "cb5db9534254478ea85d239a6232b406",
            "1d177b3c38a848368372bfb7af8c6576",
            "1b1e5bad524c4bd5b74073649798e944",
            "b5c40ef7cfa04dda87edc0473b1eebe4",
            "47b02b46bccc46acaee7361d6318b9e1",
            "60e860b6be0c48c781605d5f16c713bd",
            "f1adc80bdd3b4af580afea93f2cd3a4a",
            "741050a79c0048d7878c4654a714b2f7",
            "80a52ba0f2ac4ab6ab045daaf3569f58",
            "9765dc16de57435d8d2a022aea9779ac"
          ]
        },
        "id": "3bGLBAQxQXiH",
        "outputId": "ccb4aa13-544f-470c-8296-c09ab4a8c171"
      },
      "execution_count": 35,
      "outputs": [
        {
          "output_type": "display_data",
          "data": {
            "text/plain": [
              "  0%|          | 0/1025 [00:00<?, ?it/s]"
            ],
            "application/vnd.jupyter.widget-view+json": {
              "version_major": 2,
              "version_minor": 0,
              "model_id": "eaf374727e394d8e9813d8d77c8bd408"
            }
          },
          "metadata": {}
        }
      ]
    },
    {
      "cell_type": "code",
      "source": [
        "tuned_model = genai.get_tuned_model(f'tunedModels/generate-relationalner-5')\n",
        "tuned_model.state"
      ],
      "metadata": {
        "id": "NvU-88KSpQdJ",
        "colab": {
          "base_uri": "https://localhost:8080/",
          "height": 34
        },
        "outputId": "8e1d6433-b6e9-47a3-8105-37e893a4fadd"
      },
      "execution_count": 36,
      "outputs": [
        {
          "output_type": "execute_result",
          "data": {
            "text/plain": [
              "<State.ACTIVE: 2>"
            ]
          },
          "metadata": {},
          "execution_count": 36
        }
      ]
    },
    {
      "cell_type": "code",
      "source": [
        "#Model has been fine-tuned; include methods to compare tuples here\n",
        "import numpy as np\n",
        "\n",
        "def jaccard_similarity_case_insensitive(tuple1, tuple2):\n",
        "    \"\"\"Compute Jaccard similarity between two tuples of strings, ignoring case.\"\"\"\n",
        "    set1 = set(str(x).lower() for x in tuple1)\n",
        "    set2 = set(str(x).lower() for x in tuple2)\n",
        "    intersection = len(set1 & set2)\n",
        "    union = len(set1 | set2)\n",
        "    return intersection / union if union > 0 else 0.0\n",
        "\n",
        "def match_and_score_tuples(model_tuples, ground_truth_tuples):\n",
        "    \"\"\"\n",
        "    Matches tuples between model and ground truth using maximum Jaccard similarity,\n",
        "    and computes the average similarity, number of hallucinations, and misses.\n",
        "    \"\"\"\n",
        "    model_tuples = list(model_tuples)  # Ensure lists\n",
        "    ground_truth_tuples = list(ground_truth_tuples)\n",
        "\n",
        "    n_model = len(model_tuples)\n",
        "    n_gt = len(ground_truth_tuples)\n",
        "\n",
        "    if n_model == 0 and n_gt == 0:\n",
        "        return 1.0, 0, 0  # Perfect match if nothing predicted and nothing to find\n",
        "\n",
        "    # Build similarity matrix\n",
        "    sim_matrix = np.zeros((n_model, n_gt))\n",
        "    for i, model_tuple in enumerate(model_tuples):\n",
        "        for j, gt_tuple in enumerate(ground_truth_tuples):\n",
        "            sim_matrix[i, j] = jaccard_similarity_case_insensitive(model_tuple, gt_tuple)\n",
        "\n",
        "    matched_model = set()\n",
        "    matched_gt = set()\n",
        "    matches = []\n",
        "\n",
        "    while True:\n",
        "        # Find the max similarity pair\n",
        "        max_sim = -1\n",
        "        max_i, max_j = -1, -1\n",
        "        for i in range(n_model):\n",
        "            if i in matched_model:\n",
        "                continue\n",
        "            for j in range(n_gt):\n",
        "                if j in matched_gt:\n",
        "                    continue\n",
        "                if sim_matrix[i, j] > max_sim:\n",
        "                    max_sim = sim_matrix[i, j]\n",
        "                    max_i, max_j = i, j\n",
        "\n",
        "        if max_sim <= 0:\n",
        "            break  # No more good matches\n",
        "\n",
        "        matched_model.add(max_i)\n",
        "        matched_gt.add(max_j)\n",
        "        matches.append(max_sim)\n",
        "\n",
        "    num_hallucinations = n_model - len(matched_model)\n",
        "    num_misses = n_gt - len(matched_gt)\n",
        "    average_similarity = np.mean(matches) if matches else 0.0\n",
        "\n",
        "    return average_similarity, num_hallucinations, num_misses"
      ],
      "metadata": {
        "id": "7ZVtQyJHZ5R4"
      },
      "execution_count": 8,
      "outputs": []
    },
    {
      "cell_type": "code",
      "source": [
        "model = genai.GenerativeModel(model_name=f'tunedModels/generate-relationalner-3')\n",
        "test_relational_df = pd.read_csv(\"test_relational_finetune.csv\")"
      ],
      "metadata": {
        "id": "wi-VS5HNa2rh"
      },
      "execution_count": 8,
      "outputs": []
    },
    {
      "cell_type": "code",
      "source": [
        "result = model.generate_content(test_relational_df['meds_section'].iloc[3], safety_settings=[\n",
        "        {\n",
        "            \"category\": \"HARM_CATEGORY_DANGEROUS_CONTENT\",\n",
        "            \"threshold\": \"HIGH\",  # Allow 'medium' but block at 'high'\n",
        "        },\n",
        "        {\n",
        "            \"category\": \"HARM_CATEGORY_HATE_SPEECH\",\n",
        "            \"threshold\": \"HIGH\",\n",
        "        },\n",
        "        {\n",
        "            \"category\": \"HARM_CATEGORY_SEXUALLY_EXPLICIT\",\n",
        "            \"threshold\": \"HIGH\",\n",
        "        },\n",
        "        {\n",
        "            \"category\": \"HARM_CATEGORY_HARASSMENT\",\n",
        "            \"threshold\": \"HIGH\",\n",
        "        },\n",
        "    ])"
      ],
      "metadata": {
        "id": "pHpydUxebBF7"
      },
      "execution_count": 9,
      "outputs": []
    },
    {
      "cell_type": "code",
      "source": [
        "json_predictions = []\n",
        "for i in range(len(test_relational_df)):\n",
        "  result = model.generate_content(test_relational_df['meds_section'].iloc[i], safety_settings=[\n",
        "        {\n",
        "            \"category\": \"HARM_CATEGORY_DANGEROUS_CONTENT\",\n",
        "            \"threshold\": \"HIGH\",  # Allow 'medium' but block at 'high'\n",
        "        },\n",
        "        {\n",
        "            \"category\": \"HARM_CATEGORY_HATE_SPEECH\",\n",
        "            \"threshold\": \"HIGH\",\n",
        "        },\n",
        "        {\n",
        "            \"category\": \"HARM_CATEGORY_SEXUALLY_EXPLICIT\",\n",
        "            \"threshold\": \"HIGH\",\n",
        "        },\n",
        "        {\n",
        "            \"category\": \"HARM_CATEGORY_HARASSMENT\",\n",
        "            \"threshold\": \"HIGH\",\n",
        "        },\n",
        "    ])\n",
        "  json_predictions.append(result.text)\n"
      ],
      "metadata": {
        "id": "sS9VluLWbPuj"
      },
      "execution_count": 10,
      "outputs": []
    },
    {
      "cell_type": "code",
      "source": [
        "print(json_predictions[1])\n",
        "\n",
        "#test_relational_df[\"json_predictions\"] = json_predictions\n",
        "\n",
        "#test_relational_df.to_csv(\"test_with_outputs_relational.csv\")"
      ],
      "metadata": {
        "colab": {
          "base_uri": "https://localhost:8080/"
        },
        "id": "MjW_MqsC0LFI",
        "outputId": "dd250f31-06f1-4ead-83cd-017e67c1c48e"
      },
      "execution_count": 22,
      "outputs": [
        {
          "output_type": "stream",
          "name": "stdout",
          "text": [
            "## Discharge Summary:\n",
            "\n",
            "**Patient:**  {Patient Name}\n",
            "**Date of Birth:**  {Patient Date of Birth}\n",
            "**Admitting Diagnosis:**  Coronary Artery Disease\n",
            "**Reason for Admission:**  s/p Coronary artery Bypass Grafting/Aortic Valve Replacement\n",
            "**Past History:**  Hypertension, Hyperlipidemia, Chronic atrial fibrillation (on ASA, no coumadin), Diastolic CHF (EF 60%), h/o cervical fx, s/p C3-C5 laminectomy, resulting in mild atony of bladder and neurogenic bladder, indwelling Foley x{Duration}, GERD, BPH, multiple urinary tract infections, CKD stage I-II, skin cancer resection of left shoulder {Duration} years ago, draining cellulitis of both legs x{Duration} weeks, h/o MRSA.\n",
            "**Allergies:**  NKA\n",
            "**Medications:**\n",
            "- Atorvastatin 80 mg once a day PO/NG\n",
            "- Quetiapine 25 mg 3 times a day PO/NG\n",
            "- Insulin Regular Human 100 unit/mL sliding scale SC\n",
            "- Metoprolol Tartrate 50 mg 2 times a day PO/NG\n",
            "- Potassium Chloride 10 mEq once a day PO/NG\n",
            "- Captopril 25 mg 2 times a day PO/NG\n",
            "- Docusate Sodium 100 mg once a day PO/NG\n",
            "- Ranitidine HCl 150 mg once a day PO/NG\n",
            "- Acetaminophen 325 mg 2 times a day PO/NG\n",
            "- Aspirin 81 mg once a day PO/NG\n",
            "- Bisacodyl 10 mg once a day PR\n",
            "- Magnesium Hydroxide 400 mg/5 mL 30 mL once a day PO/NG\n",
            "- Diltiazem HCl 30 mg once a day PO/NG\n",
            "- Vancomycin 1000 mg 1 times a day IV\n"
          ]
        }
      ]
    },
    {
      "cell_type": "code",
      "source": [
        "import pandas as pd\n",
        "import seaborn as sns\n",
        "\n",
        "model = operation.result()\n",
        "\n",
        "snapshots = pd.DataFrame(model.tuning_task.snapshots)\n",
        "\n",
        "sns.lineplot(data=snapshots, x = 'epoch', y='mean_loss')"
      ],
      "metadata": {
        "colab": {
          "base_uri": "https://localhost:8080/",
          "height": 466
        },
        "id": "u5MR0Bm5dZMb",
        "outputId": "47847dc5-3a18-4c96-aec1-439b69101898"
      },
      "execution_count": null,
      "outputs": [
        {
          "output_type": "execute_result",
          "data": {
            "text/plain": [
              "<Axes: xlabel='epoch', ylabel='mean_loss'>"
            ]
          },
          "metadata": {},
          "execution_count": 167
        },
        {
          "output_type": "display_data",
          "data": {
            "text/plain": [
              "<Figure size 640x480 with 1 Axes>"
            ],
            "image/png": "[encoded data removed]"
          },
          "metadata": {}
        }
      ]
    },
    {
      "cell_type": "markdown",
      "source": [
        "Here, we make a new model but the training data has been artifically injected with not mentioned values. This is to see if our test output will now contain more not mentioned values than before."
      ],
      "metadata": {
        "id": "MBdPuJYjgiGL"
      }
    },
    {
      "cell_type": "code",
      "source": [
        "import pandas as pd\n",
        "train_relational_null_df = pd.read_csv(\"train_relational_null_injected.csv\")\n",
        "training_data_null_injected = []\n",
        "\n",
        "for i in range(len(train_relational_null_df)):\n",
        "  prompt = train_relational_null_df['meds_section'].iloc[i]\n",
        "  expected_output = train_relational_null_df['null_injected_gt'].iloc[i]\n",
        "  training_data_null_injected.append(\n",
        "      {\n",
        "          'text_input': prompt,\n",
        "          'output': expected_output\n",
        "      }\n",
        "  )\n",
        "\n",
        "\n",
        "name = 'generate-nullinjected-1'\n",
        "operation = genai.create_tuned_model(\n",
        "    # You can use a tuned model here too. Set `source_model=\"tunedModels/...\"`\n",
        "    source_model=\"tunedModels/generate-ner-1\", ##the generate-ner-1 model is our fine-tuned traditional NER model\n",
        "    training_data=training_data_null_injected,\n",
        "    id = name,\n",
        "    epoch_count = 100,\n",
        "    batch_size=4,\n",
        "    learning_rate=0.001,\n",
        ")"
      ],
      "metadata": {
        "id": "uJ53BWoMgiqr"
      },
      "execution_count": 44,
      "outputs": []
    },
    {
      "cell_type": "code",
      "source": [
        "print(name)\n",
        "model = genai.get_tuned_model(f'tunedModels/{name}')\n",
        "print(model.state)\n",
        "print(operation.name)\n",
        "\n",
        "import time\n",
        "\n",
        "for status in operation.wait_bar():\n",
        "  time.sleep(30)\n"
      ],
      "metadata": {
        "colab": {
          "base_uri": "https://localhost:8080/",
          "height": 101,
          "referenced_widgets": [
            "ab32dd2d977f484aa5c7b164d77d5f83",
            "7a37dd46f77a4418a8fb0fe859f6d49d",
            "0c52cdf903694b7ab9d338ecc1a7f701",
            "348330bf7e1f434c8ead6df9fd3cf55f",
            "43826f6e68884178824a9f9a2a26e9db",
            "6d1c0c06a5364ef3993952271e97c964",
            "1e678842a1174f148578aa137f52cbf1",
            "b4efc637f4524d4d880f140214e5e991",
            "2bd539a8639848679e1a2f83e02fc312",
            "e985329161f74014a16df9f5b65c8604",
            "c5018dbfd53048319c970593abc14cc7"
          ]
        },
        "id": "iO4VaNVSi02r",
        "outputId": "c9fda692-9e31-41d5-fdea-f0112bd91782"
      },
      "execution_count": 45,
      "outputs": [
        {
          "output_type": "stream",
          "name": "stdout",
          "text": [
            "generate-nullinjected-1\n",
            "1\n",
            "tunedModels/generate-nullinjected-1/operations/3eo9h1y4kgzh\n"
          ]
        },
        {
          "output_type": "display_data",
          "data": {
            "text/plain": [
              "  0%|          | 0/1025 [00:00<?, ?it/s]"
            ],
            "application/vnd.jupyter.widget-view+json": {
              "version_major": 2,
              "version_minor": 0,
              "model_id": "ab32dd2d977f484aa5c7b164d77d5f83"
            }
          },
          "metadata": {}
        }
      ]
    },
    {
      "cell_type": "code",
      "source": [
        "#Now let's test it on the validation set\n",
        "model = genai.GenerativeModel(model_name=f'tunedModels/generate-nullinjected-1')\n",
        "test_null_injected_df = pd.read_csv(\"test_relational_finetune.csv\")\n",
        "\n",
        "result = model.generate_content(test_null_injected_df['meds_section'].iloc[1], safety_settings=[\n",
        "        {\n",
        "            \"category\": \"HARM_CATEGORY_DANGEROUS_CONTENT\",\n",
        "            \"threshold\": \"HIGH\",  # Allow 'medium' but block at 'high'\n",
        "        },\n",
        "        {\n",
        "            \"category\": \"HARM_CATEGORY_HATE_SPEECH\",\n",
        "            \"threshold\": \"HIGH\",\n",
        "        },\n",
        "        {\n",
        "            \"category\": \"HARM_CATEGORY_SEXUALLY_EXPLICIT\",\n",
        "            \"threshold\": \"HIGH\",\n",
        "        },\n",
        "        {\n",
        "            \"category\": \"HARM_CATEGORY_HARASSMENT\",\n",
        "            \"threshold\": \"HIGH\",\n",
        "        },\n",
        "    ])\n",
        "\n",
        "print(result.text)"
      ],
      "metadata": {
        "colab": {
          "base_uri": "https://localhost:8080/",
          "height": 1000
        },
        "id": "edf85ZxFjT-t",
        "outputId": "839a574d-b424-46cf-fe76-cea640ced3c6"
      },
      "execution_count": 55,
      "outputs": [
        {
          "output_type": "stream",
          "name": "stdout",
          "text": [
            "## Drug Dosage and Route:\n",
            "\n",
            "**1. Aspirin 81mg Tablet, Delayed Release (E.C.)**\n",
            "* Dosage: 325mg\n",
            "* Route: Not Mentioned\n",
            "* Unit of Dosage: mg\n",
            "\n",
            "**2. Ranitidine HCl 150mg Tablet**\n",
            "* Dosage: 150mg\n",
            "* Route: PO\n",
            "* Unit of Dosage: mg\n",
            "\n",
            "**3. Docusate Sodium 100mg Capsule**\n",
            "* Dosage: 100mg\n",
            "* Route: PO\n",
            "* Unit of Dosage: mg\n",
            "\n",
            "**4. Acetaminophen 325mg Tablet**\n",
            "* Dosage: 650mg\n",
            "* Route: PO\n",
            "* Unit of Dosage: mg\n",
            "\n",
            "**5. Bisacodyl 10mg Suppository**\n",
            "* Dosage: 10mg\n",
            "* Route: PR\n",
            "* Unit of Dosage: mg\n",
            "\n",
            "**6. Magnesium Hydroxide 400mg/5mL Suspension**\n",
            "* Dosage: 15mL\n",
            "* Route: PO\n",
            "* Unit of Dosage: mL\n",
            "\n",
            "**7. Atorvastatin 80mg Tablet**\n",
            "* Dosage: 80mg\n",
            "* Route: Not Mentioned\n",
            "* Unit of Dosage: mg\n",
            "\n",
            "**8. Heparin (Porcine) 5,000 unit/mL Solution**\n",
            "* Dosage: 5,000\n",
            "* Route: SC\n",
            "* Unit of Dosage: UNIT\n",
            "\n",
            "**9. Finasteride 5mg Tablet**\n",
            "* Dosage: 5mg\n",
            "* Route: Not Mentioned\n",
            "* Unit of Dosage: mg\n",
            "\n",
            "**10. Quetiapine 25mg Tablet**\n",
            "* Dosage: 25mg\n",
            "* Route: PO\n",
            "* Unit of Dosage: mg\n",
            "\n",
            "**11. Captopril 25mg Tablet**\n",
            "* Dosage: 50mg\n",
            "* Route: PO\n",
            "* Unit of Dosage: mg\n",
            "\n",
            "**12. Miconazole Nitrate 2% Powder**\n",
            "* Dosage: Not Mentioned\n",
            "* Route: Topical\n",
            "* Unit of Dosage: Not Mentioned\n",
            "\n",
            "**13. Insulin Regular Human 100unit/mL Solution**\n",
            "* Dosage: 6-12\n",
            "* Route: SC\n",
            "* Unit of Dosage: UNIT\n",
            "\n",
            "**14. Diltiazem HCl 30mg Tablet**\n",
            "* Dosage: 120mg\n",
            "* Route: PO\n",
            "* Unit of Dosage: mg\n",
            "\n",
            "**15. Metoprolol Tartrate 50mg Tablet**\n",
            "* Dosage: 100mg\n",
            "* Route: PO\n",
            "* Unit of Dosage: mg\n",
            "\n",
            "**16. Lasix 40mg Tablet**\n",
            "* Dosage: 40mg\n",
            "* Route: Not Mentioned\n",
            "* Unit of Dosage: mg\n",
            "\n",
            "**17. Potassium Chloride 10mEq Tablet Sustained Release**\n",
            "* Dosage: 20mEq\n",
            "* Route: PO\n",
            "* Unit of Dosage: mEq\n",
            "\n",
            "Please note that the route of administration for some medications is not mentioned in the given text. \n",
            "{\n",
            "  \"Docusate Sodium\": [\n",
            "    {\n",
            "      \"Drug Dosage\": \"100\",\n",
            "      \"Unit of Dosage\": \"mg\",\n",
            "      \"Route\": \"PO\",\n",
            "      \"Drug Form\": \"Not Mentioned\"\n",
            "    }\n",
            "  ],\n",
            "  \"Acetaminophen\": [\n",
            "    {\n",
            "      \"Drug Dosage\": \"325\",\n",
            "      \"Unit of Dosage\": \"mg\",\n",
            "      \"Route\": \"PO\",\n",
            "      \"Drug Form\": \"TAB\"\n",
            "    }\n",
            "  ],\n",
            "  \"Magnesium Hydroxide\": [\n",
            "    {\n",
            "      \"Drug Dosage\": \"15\",\n",
            "      \"Unit of Dosage\": \"mL\",\n",
            "      \"Route\": \"PO\",\n",
            "      \"Drug Form\": \"SUSP\"\n",
            "    }\n",
            "  ],\n",
            "  \"Atorvastatin\": [\n",
            "    {\n",
            "      \"Drug Dosage\": \"80\",\n",
            "      \"Unit of Dosage\": \"mg\",\n",
            "      \"Route\": \"PO/NG\",\n",
            "      \"Drug Form\": \"Not Mentioned\"\n",
            "    }\n",
            "  ],\n",
            "  \"Quetiapine\": [\n",
            "    {\n",
            "      \"Drug Dosage\": \"25\",\n",
            "      \"Unit of Dosage\": \"mg\",\n",
            "      \"Route\": \"PO\",\n",
            "      \"Drug Form\": \"TAB\"\n",
            "    }\n",
            "  ],\n",
            "  \"Ranitidine HCl\": [\n",
            "    {\n",
            "      \"Drug Dosage\": \"150\",\n",
            "      \"Unit of Dosage\": \"mg\",\n",
            "      \"Route\": \"PO\",\n",
            "      \"Drug Form\": \"TAB\"\n",
            "    }\n",
            "  ],\n",
            "  \"Bisacodyl\": [\n",
            "    {\n",
            "      \"Drug Dosage\": \"10\",\n",
            "      \"Unit of Dosage\": \"Not Mentioned\",\n",
            "      \"Route\": \"PR\",\n",
            "      \"Drug Form\": \"SUPP\n"
          ]
        }
      ]
    },
    {
      "cell_type": "code",
      "source": [
        "import json\n",
        "def json_to_tuple(json_string):\n",
        "\n",
        "    data = json.loads(json_string)\n",
        "\n",
        "    fields = [\"Drug Dosage\", \"Unit of Dosage\", \"Route\", \"Drug Form\"]\n",
        "\n",
        "    tuple_form = {\n",
        "        drug: [tuple(mention[field] for field in fields) for mention in mentions]\n",
        "        for drug, mentions in data.items()\n",
        "    }\n",
        "    return tuple_form"
      ],
      "metadata": {
        "id": "_N0FmYaja1Y2"
      },
      "execution_count": 54,
      "outputs": []
    },
    {
      "cell_type": "markdown",
      "metadata": {
        "id": "nmuQCbTYwIOx"
      },
      "source": [
        "## Update the description\n",
        "\n",
        "You can update the description of your tuned model any time using the `genai.update_tuned_model` method."
      ]
    },
    {
      "cell_type": "code",
      "execution_count": null,
      "metadata": {
        "id": "9gAVuXT_wG3x"
      },
      "outputs": [],
      "source": [
        "genai.update_tuned_model(f'tunedModels/{name}', {\"description\":\"This is my model.\"});"
      ]
    },
    {
      "cell_type": "code",
      "execution_count": null,
      "metadata": {
        "id": "d-c3YerBxVYs",
        "outputId": "67a498e4-585b-4974-ebc4-50446b02b48b"
      },
      "outputs": [
        {
          "data": {
            "application/vnd.google.colaboratory.intrinsic+json": {
              "type": "string"
            },
            "text/plain": [
              "'This is my model.'"
            ]
          },
          "execution_count": 22,
          "metadata": {},
          "output_type": "execute_result"
        }
      ],
      "source": [
        "model = genai.get_tuned_model(f'tunedModels/{name}')\n",
        "\n",
        "model.description"
      ]
    },
    {
      "cell_type": "markdown",
      "metadata": {
        "id": "i_TpwvBB4bQ7"
      },
      "source": [
        "## Delete the model\n",
        "\n",
        "You can clean up your tuned model list by deleting models you no longer need. Use the `genai.delete_tuned_model` method to delete a model. If you canceled any tuning jobs, you may want to delete those as their performance may be unpredictable."
      ]
    },
    {
      "cell_type": "code",
      "execution_count": 43,
      "metadata": {
        "id": "cepfaUCvVGCo"
      },
      "outputs": [],
      "source": [
        "genai.delete_tuned_model(f'tunedModels/generate-nullinjected-1')"
      ]
    },
    {
      "cell_type": "markdown",
      "metadata": {
        "id": "ljEssIshYDEr"
      },
      "source": [
        "The model no longer exists:"
      ]
    },
    {
      "cell_type": "code",
      "execution_count": null,
      "metadata": {
        "id": "kN_bkut_4ayL",
        "colab": {
          "base_uri": "https://localhost:8080/",
          "height": 52
        },
        "outputId": "894c7a23-1b66-476f-d907-ec8f5d7409cf"
      },
      "outputs": [
        {
          "output_type": "stream",
          "name": "stdout",
          "text": [
            "<class 'google.api_core.exceptions.NotFound'>: 404 GET https://generativelanguage.googleapis.com/v1beta/tunedModels/generate-num-588?%24alt=json%3Benum-encoding%3Dint: Tuned model tunedModels/generate-num-588 does not exist.\n"
          ]
        },
        {
          "output_type": "stream",
          "name": "stderr",
          "text": [
            "WARNING:tornado.access:404 GET /v1beta/tunedModels/generate-num-588?%24alt=json%3Benum-encoding%3Dint (127.0.0.1) 304.39ms\n"
          ]
        }
      ],
      "source": [
        "try:\n",
        "  m = genai.get_tuned_model(f'tunedModels/{name}')\n",
        "  print(m)\n",
        "except Exception as e:\n",
        "  print(f\"{type(e)}: {e}\")"
      ]
    }
  ],
  "metadata": {
    "colab": {
      "provenance": []
    },
    "kernelspec": {
      "display_name": "Python 3",
      "name": "python3"
    },
    "widgets": {
      "application/vnd.jupyter.widget-state+json": {
        "f0d46797515746a7bd87bfaafde1326c": {
          "model_module": "@jupyter-widgets/controls",
          "model_name": "HBoxModel",
          "model_module_version": "1.5.0",
          "state": {
            "_dom_classes": [],
            "_model_module": "@jupyter-widgets/controls",
            "_model_module_version": "1.5.0",
            "_model_name": "HBoxModel",
            "_view_count": null,
            "_view_module": "@jupyter-widgets/controls",
            "_view_module_version": "1.5.0",
            "_view_name": "HBoxView",
            "box_style": "",
            "children": [
              "IPY_MODEL_d47db73f0f074aa98802fe31dfdb0833",
              "IPY_MODEL_979defb8a6be44b3ac78b7db71af71bf",
              "IPY_MODEL_abbfd3d198da4248a118dcf1683ef0a1"
            ],
            "layout": "IPY_MODEL_fa78be4bb600427cb3d9a276f8542d68"
          }
        },
        "d47db73f0f074aa98802fe31dfdb0833": {
          "model_module": "@jupyter-widgets/controls",
          "model_name": "HTMLModel",
          "model_module_version": "1.5.0",
          "state": {
            "_dom_classes": [],
            "_model_module": "@jupyter-widgets/controls",
            "_model_module_version": "1.5.0",
            "_model_name": "HTMLModel",
            "_view_count": null,
            "_view_module": "@jupyter-widgets/controls",
            "_view_module_version": "1.5.0",
            "_view_name": "HTMLView",
            "description": "",
            "description_tooltip": null,
            "layout": "IPY_MODEL_ca7e006d5e2a4215864af5ccc9458558",
            "placeholder": "​",
            "style": "IPY_MODEL_f5d7ca677ef5464dbf70ca930618d87c",
            "value": "100%"
          }
        },
        "979defb8a6be44b3ac78b7db71af71bf": {
          "model_module": "@jupyter-widgets/controls",
          "model_name": "FloatProgressModel",
          "model_module_version": "1.5.0",
          "state": {
            "_dom_classes": [],
            "_model_module": "@jupyter-widgets/controls",
            "_model_module_version": "1.5.0",
            "_model_name": "FloatProgressModel",
            "_view_count": null,
            "_view_module": "@jupyter-widgets/controls",
            "_view_module_version": "1.5.0",
            "_view_name": "ProgressView",
            "bar_style": "success",
            "description": "",
            "description_tooltip": null,
            "layout": "IPY_MODEL_f07ef3199f774877b62b17758c0b570e",
            "max": 1025,
            "min": 0,
            "orientation": "horizontal",
            "style": "IPY_MODEL_0d48a3a5f92b449da875d0ed01a32b93",
            "value": 1025
          }
        },
        "abbfd3d198da4248a118dcf1683ef0a1": {
          "model_module": "@jupyter-widgets/controls",
          "model_name": "HTMLModel",
          "model_module_version": "1.5.0",
          "state": {
            "_dom_classes": [],
            "_model_module": "@jupyter-widgets/controls",
            "_model_module_version": "1.5.0",
            "_model_name": "HTMLModel",
            "_view_count": null,
            "_view_module": "@jupyter-widgets/controls",
            "_view_module_version": "1.5.0",
            "_view_name": "HTMLView",
            "description": "",
            "description_tooltip": null,
            "layout": "IPY_MODEL_3856c0733c3f43ebbb474c0c765e2b96",
            "placeholder": "​",
            "style": "IPY_MODEL_a01b1d8a132d49968846b7d566efb65c",
            "value": " 1025/1025 [1:05:55&lt;00:00,  2.62s/it]"
          }
        },
        "fa78be4bb600427cb3d9a276f8542d68": {
          "model_module": "@jupyter-widgets/base",
          "model_name": "LayoutModel",
          "model_module_version": "1.2.0",
          "state": {
            "_model_module": "@jupyter-widgets/base",
            "_model_module_version": "1.2.0",
            "_model_name": "LayoutModel",
            "_view_count": null,
            "_view_module": "@jupyter-widgets/base",
            "_view_module_version": "1.2.0",
            "_view_name": "LayoutView",
            "align_content": null,
            "align_items": null,
            "align_self": null,
            "border": null,
            "bottom": null,
            "display": null,
            "flex": null,
            "flex_flow": null,
            "grid_area": null,
            "grid_auto_columns": null,
            "grid_auto_flow": null,
            "grid_auto_rows": null,
            "grid_column": null,
            "grid_gap": null,
            "grid_row": null,
            "grid_template_areas": null,
            "grid_template_columns": null,
            "grid_template_rows": null,
            "height": null,
            "justify_content": null,
            "justify_items": null,
            "left": null,
            "margin": null,
            "max_height": null,
            "max_width": null,
            "min_height": null,
            "min_width": null,
            "object_fit": null,
            "object_position": null,
            "order": null,
            "overflow": null,
            "overflow_x": null,
            "overflow_y": null,
            "padding": null,
            "right": null,
            "top": null,
            "visibility": null,
            "width": null
          }
        },
        "ca7e006d5e2a4215864af5ccc9458558": {
          "model_module": "@jupyter-widgets/base",
          "model_name": "LayoutModel",
          "model_module_version": "1.2.0",
          "state": {
            "_model_module": "@jupyter-widgets/base",
            "_model_module_version": "1.2.0",
            "_model_name": "LayoutModel",
            "_view_count": null,
            "_view_module": "@jupyter-widgets/base",
            "_view_module_version": "1.2.0",
            "_view_name": "LayoutView",
            "align_content": null,
            "align_items": null,
            "align_self": null,
            "border": null,
            "bottom": null,
            "display": null,
            "flex": null,
            "flex_flow": null,
            "grid_area": null,
            "grid_auto_columns": null,
            "grid_auto_flow": null,
            "grid_auto_rows": null,
            "grid_column": null,
            "grid_gap": null,
            "grid_row": null,
            "grid_template_areas": null,
            "grid_template_columns": null,
            "grid_template_rows": null,
            "height": null,
            "justify_content": null,
            "justify_items": null,
            "left": null,
            "margin": null,
            "max_height": null,
            "max_width": null,
            "min_height": null,
            "min_width": null,
            "object_fit": null,
            "object_position": null,
            "order": null,
            "overflow": null,
            "overflow_x": null,
            "overflow_y": null,
            "padding": null,
            "right": null,
            "top": null,
            "visibility": null,
            "width": null
          }
        },
        "f5d7ca677ef5464dbf70ca930618d87c": {
          "model_module": "@jupyter-widgets/controls",
          "model_name": "DescriptionStyleModel",
          "model_module_version": "1.5.0",
          "state": {
            "_model_module": "@jupyter-widgets/controls",
            "_model_module_version": "1.5.0",
            "_model_name": "DescriptionStyleModel",
            "_view_count": null,
            "_view_module": "@jupyter-widgets/base",
            "_view_module_version": "1.2.0",
            "_view_name": "StyleView",
            "description_width": ""
          }
        },
        "f07ef3199f774877b62b17758c0b570e": {
          "model_module": "@jupyter-widgets/base",
          "model_name": "LayoutModel",
          "model_module_version": "1.2.0",
          "state": {
            "_model_module": "@jupyter-widgets/base",
            "_model_module_version": "1.2.0",
            "_model_name": "LayoutModel",
            "_view_count": null,
            "_view_module": "@jupyter-widgets/base",
            "_view_module_version": "1.2.0",
            "_view_name": "LayoutView",
            "align_content": null,
            "align_items": null,
            "align_self": null,
            "border": null,
            "bottom": null,
            "display": null,
            "flex": null,
            "flex_flow": null,
            "grid_area": null,
            "grid_auto_columns": null,
            "grid_auto_flow": null,
            "grid_auto_rows": null,
            "grid_column": null,
            "grid_gap": null,
            "grid_row": null,
            "grid_template_areas": null,
            "grid_template_columns": null,
            "grid_template_rows": null,
            "height": null,
            "justify_content": null,
            "justify_items": null,
            "left": null,
            "margin": null,
            "max_height": null,
            "max_width": null,
            "min_height": null,
            "min_width": null,
            "object_fit": null,
            "object_position": null,
            "order": null,
            "overflow": null,
            "overflow_x": null,
            "overflow_y": null,
            "padding": null,
            "right": null,
            "top": null,
            "visibility": null,
            "width": null
          }
        },
        "0d48a3a5f92b449da875d0ed01a32b93": {
          "model_module": "@jupyter-widgets/controls",
          "model_name": "ProgressStyleModel",
          "model_module_version": "1.5.0",
          "state": {
            "_model_module": "@jupyter-widgets/controls",
            "_model_module_version": "1.5.0",
            "_model_name": "ProgressStyleModel",
            "_view_count": null,
            "_view_module": "@jupyter-widgets/base",
            "_view_module_version": "1.2.0",
            "_view_name": "StyleView",
            "bar_color": null,
            "description_width": ""
          }
        },
        "3856c0733c3f43ebbb474c0c765e2b96": {
          "model_module": "@jupyter-widgets/base",
          "model_name": "LayoutModel",
          "model_module_version": "1.2.0",
          "state": {
            "_model_module": "@jupyter-widgets/base",
            "_model_module_version": "1.2.0",
            "_model_name": "LayoutModel",
            "_view_count": null,
            "_view_module": "@jupyter-widgets/base",
            "_view_module_version": "1.2.0",
            "_view_name": "LayoutView",
            "align_content": null,
            "align_items": null,
            "align_self": null,
            "border": null,
            "bottom": null,
            "display": null,
            "flex": null,
            "flex_flow": null,
            "grid_area": null,
            "grid_auto_columns": null,
            "grid_auto_flow": null,
            "grid_auto_rows": null,
            "grid_column": null,
            "grid_gap": null,
            "grid_row": null,
            "grid_template_areas": null,
            "grid_template_columns": null,
            "grid_template_rows": null,
            "height": null,
            "justify_content": null,
            "justify_items": null,
            "left": null,
            "margin": null,
            "max_height": null,
            "max_width": null,
            "min_height": null,
            "min_width": null,
            "object_fit": null,
            "object_position": null,
            "order": null,
            "overflow": null,
            "overflow_x": null,
            "overflow_y": null,
            "padding": null,
            "right": null,
            "top": null,
            "visibility": null,
            "width": null
          }
        },
        "a01b1d8a132d49968846b7d566efb65c": {
          "model_module": "@jupyter-widgets/controls",
          "model_name": "DescriptionStyleModel",
          "model_module_version": "1.5.0",
          "state": {
            "_model_module": "@jupyter-widgets/controls",
            "_model_module_version": "1.5.0",
            "_model_name": "DescriptionStyleModel",
            "_view_count": null,
            "_view_module": "@jupyter-widgets/base",
            "_view_module_version": "1.2.0",
            "_view_name": "StyleView",
            "description_width": ""
          }
        },
        "eaf374727e394d8e9813d8d77c8bd408": {
          "model_module": "@jupyter-widgets/controls",
          "model_name": "HBoxModel",
          "model_module_version": "1.5.0",
          "state": {
            "_dom_classes": [],
            "_model_module": "@jupyter-widgets/controls",
            "_model_module_version": "1.5.0",
            "_model_name": "HBoxModel",
            "_view_count": null,
            "_view_module": "@jupyter-widgets/controls",
            "_view_module_version": "1.5.0",
            "_view_name": "HBoxView",
            "box_style": "",
            "children": [
              "IPY_MODEL_cb5db9534254478ea85d239a6232b406",
              "IPY_MODEL_1d177b3c38a848368372bfb7af8c6576",
              "IPY_MODEL_1b1e5bad524c4bd5b74073649798e944"
            ],
            "layout": "IPY_MODEL_b5c40ef7cfa04dda87edc0473b1eebe4"
          }
        },
        "cb5db9534254478ea85d239a6232b406": {
          "model_module": "@jupyter-widgets/controls",
          "model_name": "HTMLModel",
          "model_module_version": "1.5.0",
          "state": {
            "_dom_classes": [],
            "_model_module": "@jupyter-widgets/controls",
            "_model_module_version": "1.5.0",
            "_model_name": "HTMLModel",
            "_view_count": null,
            "_view_module": "@jupyter-widgets/controls",
            "_view_module_version": "1.5.0",
            "_view_name": "HTMLView",
            "description": "",
            "description_tooltip": null,
            "layout": "IPY_MODEL_47b02b46bccc46acaee7361d6318b9e1",
            "placeholder": "​",
            "style": "IPY_MODEL_60e860b6be0c48c781605d5f16c713bd",
            "value": "100%"
          }
        },
        "1d177b3c38a848368372bfb7af8c6576": {
          "model_module": "@jupyter-widgets/controls",
          "model_name": "FloatProgressModel",
          "model_module_version": "1.5.0",
          "state": {
            "_dom_classes": [],
            "_model_module": "@jupyter-widgets/controls",
            "_model_module_version": "1.5.0",
            "_model_name": "FloatProgressModel",
            "_view_count": null,
            "_view_module": "@jupyter-widgets/controls",
            "_view_module_version": "1.5.0",
            "_view_name": "ProgressView",
            "bar_style": "",
            "description": "",
            "description_tooltip": null,
            "layout": "IPY_MODEL_f1adc80bdd3b4af580afea93f2cd3a4a",
            "max": 1025,
            "min": 0,
            "orientation": "horizontal",
            "style": "IPY_MODEL_741050a79c0048d7878c4654a714b2f7",
            "value": 1025
          }
        },
        "1b1e5bad524c4bd5b74073649798e944": {
          "model_module": "@jupyter-widgets/controls",
          "model_name": "HTMLModel",
          "model_module_version": "1.5.0",
          "state": {
            "_dom_classes": [],
            "_model_module": "@jupyter-widgets/controls",
            "_model_module_version": "1.5.0",
            "_model_name": "HTMLModel",
            "_view_count": null,
            "_view_module": "@jupyter-widgets/controls",
            "_view_module_version": "1.5.0",
            "_view_name": "HTMLView",
            "description": "",
            "description_tooltip": null,
            "layout": "IPY_MODEL_80a52ba0f2ac4ab6ab045daaf3569f58",
            "placeholder": "​",
            "style": "IPY_MODEL_9765dc16de57435d8d2a022aea9779ac",
            "value": " 1025/1025 [00:16&lt;00:00, 682.07it/s]"
          }
        },
        "b5c40ef7cfa04dda87edc0473b1eebe4": {
          "model_module": "@jupyter-widgets/base",
          "model_name": "LayoutModel",
          "model_module_version": "1.2.0",
          "state": {
            "_model_module": "@jupyter-widgets/base",
            "_model_module_version": "1.2.0",
            "_model_name": "LayoutModel",
            "_view_count": null,
            "_view_module": "@jupyter-widgets/base",
            "_view_module_version": "1.2.0",
            "_view_name": "LayoutView",
            "align_content": null,
            "align_items": null,
            "align_self": null,
            "border": null,
            "bottom": null,
            "display": null,
            "flex": null,
            "flex_flow": null,
            "grid_area": null,
            "grid_auto_columns": null,
            "grid_auto_flow": null,
            "grid_auto_rows": null,
            "grid_column": null,
            "grid_gap": null,
            "grid_row": null,
            "grid_template_areas": null,
            "grid_template_columns": null,
            "grid_template_rows": null,
            "height": null,
            "justify_content": null,
            "justify_items": null,
            "left": null,
            "margin": null,
            "max_height": null,
            "max_width": null,
            "min_height": null,
            "min_width": null,
            "object_fit": null,
            "object_position": null,
            "order": null,
            "overflow": null,
            "overflow_x": null,
            "overflow_y": null,
            "padding": null,
            "right": null,
            "top": null,
            "visibility": null,
            "width": null
          }
        },
        "47b02b46bccc46acaee7361d6318b9e1": {
          "model_module": "@jupyter-widgets/base",
          "model_name": "LayoutModel",
          "model_module_version": "1.2.0",
          "state": {
            "_model_module": "@jupyter-widgets/base",
            "_model_module_version": "1.2.0",
            "_model_name": "LayoutModel",
            "_view_count": null,
            "_view_module": "@jupyter-widgets/base",
            "_view_module_version": "1.2.0",
            "_view_name": "LayoutView",
            "align_content": null,
            "align_items": null,
            "align_self": null,
            "border": null,
            "bottom": null,
            "display": null,
            "flex": null,
            "flex_flow": null,
            "grid_area": null,
            "grid_auto_columns": null,
            "grid_auto_flow": null,
            "grid_auto_rows": null,
            "grid_column": null,
            "grid_gap": null,
            "grid_row": null,
            "grid_template_areas": null,
            "grid_template_columns": null,
            "grid_template_rows": null,
            "height": null,
            "justify_content": null,
            "justify_items": null,
            "left": null,
            "margin": null,
            "max_height": null,
            "max_width": null,
            "min_height": null,
            "min_width": null,
            "object_fit": null,
            "object_position": null,
            "order": null,
            "overflow": null,
            "overflow_x": null,
            "overflow_y": null,
            "padding": null,
            "right": null,
            "top": null,
            "visibility": null,
            "width": null
          }
        },
        "60e860b6be0c48c781605d5f16c713bd": {
          "model_module": "@jupyter-widgets/controls",
          "model_name": "DescriptionStyleModel",
          "model_module_version": "1.5.0",
          "state": {
            "_model_module": "@jupyter-widgets/controls",
            "_model_module_version": "1.5.0",
            "_model_name": "DescriptionStyleModel",
            "_view_count": null,
            "_view_module": "@jupyter-widgets/base",
            "_view_module_version": "1.2.0",
            "_view_name": "StyleView",
            "description_width": ""
          }
        },
        "f1adc80bdd3b4af580afea93f2cd3a4a": {
          "model_module": "@jupyter-widgets/base",
          "model_name": "LayoutModel",
          "model_module_version": "1.2.0",
          "state": {
            "_model_module": "@jupyter-widgets/base",
            "_model_module_version": "1.2.0",
            "_model_name": "LayoutModel",
            "_view_count": null,
            "_view_module": "@jupyter-widgets/base",
            "_view_module_version": "1.2.0",
            "_view_name": "LayoutView",
            "align_content": null,
            "align_items": null,
            "align_self": null,
            "border": null,
            "bottom": null,
            "display": null,
            "flex": null,
            "flex_flow": null,
            "grid_area": null,
            "grid_auto_columns": null,
            "grid_auto_flow": null,
            "grid_auto_rows": null,
            "grid_column": null,
            "grid_gap": null,
            "grid_row": null,
            "grid_template_areas": null,
            "grid_template_columns": null,
            "grid_template_rows": null,
            "height": null,
            "justify_content": null,
            "justify_items": null,
            "left": null,
            "margin": null,
            "max_height": null,
            "max_width": null,
            "min_height": null,
            "min_width": null,
            "object_fit": null,
            "object_position": null,
            "order": null,
            "overflow": null,
            "overflow_x": null,
            "overflow_y": null,
            "padding": null,
            "right": null,
            "top": null,
            "visibility": null,
            "width": null
          }
        },
        "741050a79c0048d7878c4654a714b2f7": {
          "model_module": "@jupyter-widgets/controls",
          "model_name": "ProgressStyleModel",
          "model_module_version": "1.5.0",
          "state": {
            "_model_module": "@jupyter-widgets/controls",
            "_model_module_version": "1.5.0",
            "_model_name": "ProgressStyleModel",
            "_view_count": null,
            "_view_module": "@jupyter-widgets/base",
            "_view_module_version": "1.2.0",
            "_view_name": "StyleView",
            "bar_color": null,
            "description_width": ""
          }
        },
        "80a52ba0f2ac4ab6ab045daaf3569f58": {
          "model_module": "@jupyter-widgets/base",
          "model_name": "LayoutModel",
          "model_module_version": "1.2.0",
          "state": {
            "_model_module": "@jupyter-widgets/base",
            "_model_module_version": "1.2.0",
            "_model_name": "LayoutModel",
            "_view_count": null,
            "_view_module": "@jupyter-widgets/base",
            "_view_module_version": "1.2.0",
            "_view_name": "LayoutView",
            "align_content": null,
            "align_items": null,
            "align_self": null,
            "border": null,
            "bottom": null,
            "display": null,
            "flex": null,
            "flex_flow": null,
            "grid_area": null,
            "grid_auto_columns": null,
            "grid_auto_flow": null,
            "grid_auto_rows": null,
            "grid_column": null,
            "grid_gap": null,
            "grid_row": null,
            "grid_template_areas": null,
            "grid_template_columns": null,
            "grid_template_rows": null,
            "height": null,
            "justify_content": null,
            "justify_items": null,
            "left": null,
            "margin": null,
            "max_height": null,
            "max_width": null,
            "min_height": null,
            "min_width": null,
            "object_fit": null,
            "object_position": null,
            "order": null,
            "overflow": null,
            "overflow_x": null,
            "overflow_y": null,
            "padding": null,
            "right": null,
            "top": null,
            "visibility": null,
            "width": null
          }
        },
        "9765dc16de57435d8d2a022aea9779ac": {
          "model_module": "@jupyter-widgets/controls",
          "model_name": "DescriptionStyleModel",
          "model_module_version": "1.5.0",
          "state": {
            "_model_module": "@jupyter-widgets/controls",
            "_model_module_version": "1.5.0",
            "_model_name": "DescriptionStyleModel",
            "_view_count": null,
            "_view_module": "@jupyter-widgets/base",
            "_view_module_version": "1.2.0",
            "_view_name": "StyleView",
            "description_width": ""
          }
        },
        "ab32dd2d977f484aa5c7b164d77d5f83": {
          "model_module": "@jupyter-widgets/controls",
          "model_name": "HBoxModel",
          "model_module_version": "1.5.0",
          "state": {
            "_dom_classes": [],
            "_model_module": "@jupyter-widgets/controls",
            "_model_module_version": "1.5.0",
            "_model_name": "HBoxModel",
            "_view_count": null,
            "_view_module": "@jupyter-widgets/controls",
            "_view_module_version": "1.5.0",
            "_view_name": "HBoxView",
            "box_style": "",
            "children": [
              "IPY_MODEL_7a37dd46f77a4418a8fb0fe859f6d49d",
              "IPY_MODEL_0c52cdf903694b7ab9d338ecc1a7f701",
              "IPY_MODEL_348330bf7e1f434c8ead6df9fd3cf55f"
            ],
            "layout": "IPY_MODEL_43826f6e68884178824a9f9a2a26e9db"
          }
        },
        "7a37dd46f77a4418a8fb0fe859f6d49d": {
          "model_module": "@jupyter-widgets/controls",
          "model_name": "HTMLModel",
          "model_module_version": "1.5.0",
          "state": {
            "_dom_classes": [],
            "_model_module": "@jupyter-widgets/controls",
            "_model_module_version": "1.5.0",
            "_model_name": "HTMLModel",
            "_view_count": null,
            "_view_module": "@jupyter-widgets/controls",
            "_view_module_version": "1.5.0",
            "_view_name": "HTMLView",
            "description": "",
            "description_tooltip": null,
            "layout": "IPY_MODEL_6d1c0c06a5364ef3993952271e97c964",
            "placeholder": "​",
            "style": "IPY_MODEL_1e678842a1174f148578aa137f52cbf1",
            "value": "100%"
          }
        },
        "0c52cdf903694b7ab9d338ecc1a7f701": {
          "model_module": "@jupyter-widgets/controls",
          "model_name": "FloatProgressModel",
          "model_module_version": "1.5.0",
          "state": {
            "_dom_classes": [],
            "_model_module": "@jupyter-widgets/controls",
            "_model_module_version": "1.5.0",
            "_model_name": "FloatProgressModel",
            "_view_count": null,
            "_view_module": "@jupyter-widgets/controls",
            "_view_module_version": "1.5.0",
            "_view_name": "ProgressView",
            "bar_style": "",
            "description": "",
            "description_tooltip": null,
            "layout": "IPY_MODEL_b4efc637f4524d4d880f140214e5e991",
            "max": 1025,
            "min": 0,
            "orientation": "horizontal",
            "style": "IPY_MODEL_2bd539a8639848679e1a2f83e02fc312",
            "value": 1025
          }
        },
        "348330bf7e1f434c8ead6df9fd3cf55f": {
          "model_module": "@jupyter-widgets/controls",
          "model_name": "HTMLModel",
          "model_module_version": "1.5.0",
          "state": {
            "_dom_classes": [],
            "_model_module": "@jupyter-widgets/controls",
            "_model_module_version": "1.5.0",
            "_model_name": "HTMLModel",
            "_view_count": null,
            "_view_module": "@jupyter-widgets/controls",
            "_view_module_version": "1.5.0",
            "_view_name": "HTMLView",
            "description": "",
            "description_tooltip": null,
            "layout": "IPY_MODEL_e985329161f74014a16df9f5b65c8604",
            "placeholder": "​",
            "style": "IPY_MODEL_c5018dbfd53048319c970593abc14cc7",
            "value": " 1025/1025 [35:59&lt;00:00,  2.52s/it]"
          }
        },
        "43826f6e68884178824a9f9a2a26e9db": {
          "model_module": "@jupyter-widgets/base",
          "model_name": "LayoutModel",
          "model_module_version": "1.2.0",
          "state": {
            "_model_module": "@jupyter-widgets/base",
            "_model_module_version": "1.2.0",
            "_model_name": "LayoutModel",
            "_view_count": null,
            "_view_module": "@jupyter-widgets/base",
            "_view_module_version": "1.2.0",
            "_view_name": "LayoutView",
            "align_content": null,
            "align_items": null,
            "align_self": null,
            "border": null,
            "bottom": null,
            "display": null,
            "flex": null,
            "flex_flow": null,
            "grid_area": null,
            "grid_auto_columns": null,
            "grid_auto_flow": null,
            "grid_auto_rows": null,
            "grid_column": null,
            "grid_gap": null,
            "grid_row": null,
            "grid_template_areas": null,
            "grid_template_columns": null,
            "grid_template_rows": null,
            "height": null,
            "justify_content": null,
            "justify_items": null,
            "left": null,
            "margin": null,
            "max_height": null,
            "max_width": null,
            "min_height": null,
            "min_width": null,
            "object_fit": null,
            "object_position": null,
            "order": null,
            "overflow": null,
            "overflow_x": null,
            "overflow_y": null,
            "padding": null,
            "right": null,
            "top": null,
            "visibility": null,
            "width": null
          }
        },
        "6d1c0c06a5364ef3993952271e97c964": {
          "model_module": "@jupyter-widgets/base",
          "model_name": "LayoutModel",
          "model_module_version": "1.2.0",
          "state": {
            "_model_module": "@jupyter-widgets/base",
            "_model_module_version": "1.2.0",
            "_model_name": "LayoutModel",
            "_view_count": null,
            "_view_module": "@jupyter-widgets/base",
            "_view_module_version": "1.2.0",
            "_view_name": "LayoutView",
            "align_content": null,
            "align_items": null,
            "align_self": null,
            "border": null,
            "bottom": null,
            "display": null,
            "flex": null,
            "flex_flow": null,
            "grid_area": null,
            "grid_auto_columns": null,
            "grid_auto_flow": null,
            "grid_auto_rows": null,
            "grid_column": null,
            "grid_gap": null,
            "grid_row": null,
            "grid_template_areas": null,
            "grid_template_columns": null,
            "grid_template_rows": null,
            "height": null,
            "justify_content": null,
            "justify_items": null,
            "left": null,
            "margin": null,
            "max_height": null,
            "max_width": null,
            "min_height": null,
            "min_width": null,
            "object_fit": null,
            "object_position": null,
            "order": null,
            "overflow": null,
            "overflow_x": null,
            "overflow_y": null,
            "padding": null,
            "right": null,
            "top": null,
            "visibility": null,
            "width": null
          }
        },
        "1e678842a1174f148578aa137f52cbf1": {
          "model_module": "@jupyter-widgets/controls",
          "model_name": "DescriptionStyleModel",
          "model_module_version": "1.5.0",
          "state": {
            "_model_module": "@jupyter-widgets/controls",
            "_model_module_version": "1.5.0",
            "_model_name": "DescriptionStyleModel",
            "_view_count": null,
            "_view_module": "@jupyter-widgets/base",
            "_view_module_version": "1.2.0",
            "_view_name": "StyleView",
            "description_width": ""
          }
        },
        "b4efc637f4524d4d880f140214e5e991": {
          "model_module": "@jupyter-widgets/base",
          "model_name": "LayoutModel",
          "model_module_version": "1.2.0",
          "state": {
            "_model_module": "@jupyter-widgets/base",
            "_model_module_version": "1.2.0",
            "_model_name": "LayoutModel",
            "_view_count": null,
            "_view_module": "@jupyter-widgets/base",
            "_view_module_version": "1.2.0",
            "_view_name": "LayoutView",
            "align_content": null,
            "align_items": null,
            "align_self": null,
            "border": null,
            "bottom": null,
            "display": null,
            "flex": null,
            "flex_flow": null,
            "grid_area": null,
            "grid_auto_columns": null,
            "grid_auto_flow": null,
            "grid_auto_rows": null,
            "grid_column": null,
            "grid_gap": null,
            "grid_row": null,
            "grid_template_areas": null,
            "grid_template_columns": null,
            "grid_template_rows": null,
            "height": null,
            "justify_content": null,
            "justify_items": null,
            "left": null,
            "margin": null,
            "max_height": null,
            "max_width": null,
            "min_height": null,
            "min_width": null,
            "object_fit": null,
            "object_position": null,
            "order": null,
            "overflow": null,
            "overflow_x": null,
            "overflow_y": null,
            "padding": null,
            "right": null,
            "top": null,
            "visibility": null,
            "width": null
          }
        },
        "2bd539a8639848679e1a2f83e02fc312": {
          "model_module": "@jupyter-widgets/controls",
          "model_name": "ProgressStyleModel",
          "model_module_version": "1.5.0",
          "state": {
            "_model_module": "@jupyter-widgets/controls",
            "_model_module_version": "1.5.0",
            "_model_name": "ProgressStyleModel",
            "_view_count": null,
            "_view_module": "@jupyter-widgets/base",
            "_view_module_version": "1.2.0",
            "_view_name": "StyleView",
            "bar_color": null,
            "description_width": ""
          }
        },
        "e985329161f74014a16df9f5b65c8604": {
          "model_module": "@jupyter-widgets/base",
          "model_name": "LayoutModel",
          "model_module_version": "1.2.0",
          "state": {
            "_model_module": "@jupyter-widgets/base",
            "_model_module_version": "1.2.0",
            "_model_name": "LayoutModel",
            "_view_count": null,
            "_view_module": "@jupyter-widgets/base",
            "_view_module_version": "1.2.0",
            "_view_name": "LayoutView",
            "align_content": null,
            "align_items": null,
            "align_self": null,
            "border": null,
            "bottom": null,
            "display": null,
            "flex": null,
            "flex_flow": null,
            "grid_area": null,
            "grid_auto_columns": null,
            "grid_auto_flow": null,
            "grid_auto_rows": null,
            "grid_column": null,
            "grid_gap": null,
            "grid_row": null,
            "grid_template_areas": null,
            "grid_template_columns": null,
            "grid_template_rows": null,
            "height": null,
            "justify_content": null,
            "justify_items": null,
            "left": null,
            "margin": null,
            "max_height": null,
            "max_width": null,
            "min_height": null,
            "min_width": null,
            "object_fit": null,
            "object_position": null,
            "order": null,
            "overflow": null,
            "overflow_x": null,
            "overflow_y": null,
            "padding": null,
            "right": null,
            "top": null,
            "visibility": null,
            "width": null
          }
        },
        "c5018dbfd53048319c970593abc14cc7": {
          "model_module": "@jupyter-widgets/controls",
          "model_name": "DescriptionStyleModel",
          "model_module_version": "1.5.0",
          "state": {
            "_model_module": "@jupyter-widgets/controls",
            "_model_module_version": "1.5.0",
            "_model_name": "DescriptionStyleModel",
            "_view_count": null,
            "_view_module": "@jupyter-widgets/base",
            "_view_module_version": "1.2.0",
            "_view_name": "StyleView",
            "description_width": ""
          }
        }
      }
    }
  },
  "nbformat": 4,
  "nbformat_minor": 0
}